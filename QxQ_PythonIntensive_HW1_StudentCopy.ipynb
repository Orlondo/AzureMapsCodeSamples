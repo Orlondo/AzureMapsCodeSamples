{
  "nbformat": 4,
  "nbformat_minor": 0,
  "metadata": {
    "colab": {
      "name": "QxQ_PythonIntensive_HW1_StudentCopy.ipynb",
      "provenance": [],
      "collapsed_sections": [
        "5a5woYXBhlzz",
        "clRBgwDKhlz1",
        "yU46Qoxdhlz3",
        "fPoh-6M2hlz6",
        "HOzxNDKPncok",
        "8b0ZTRPBncor",
        "biPGQtV-ncos",
        "FNEYt30zncoz",
        "hT2WFzDKnco2",
        "iDJ-I_rMDbE-",
        "JW9UWAQ7BP3f",
        "yAqswP3QBczI",
        "1n29Z21KEumw",
        "-ExPBv3kE5rM",
        "vaBnbO5eqGgE",
        "HiPcFGmqqG_c",
        "pb2tbAw7qG_e",
        "Ca8ZV_uoqG_f",
        "Jm3_Az9eqG_j",
        "diJn3EpOqG_m",
        "Dlg9B_CIr-Yh",
        "VuMlEC5Ar-Yk",
        "FhwyKsvNr-Yk",
        "msS-J1HMr-Yp",
        "EDlVHlfxr-Yt",
        "rme5vQovudwK",
        "k-roM1i4udwL",
        "29pJzCjVudwM",
        "lkU5JJN5udwR",
        "YLFUdZU8udwW",
        "oxNL_LdqyFVz",
        "cnZz9qM0yFV1",
        "FJQZtesOyFV1",
        "W1flKJidyFV6",
        "tjjfn0YByFV-",
        "RMzrBsYd1ezY",
        "wpRhp_vL1ezZ",
        "ifB1gFm41ezb",
        "Vx2Q3kNl1ezg",
        "dDsiPqtW1ezj",
        "MHHs38qj4GpX",
        "0HtAA1j14GpZ",
        "TH6Zu4fW4Gpa",
        "WXKV_7LK4Gpf",
        "i4ghC7v64Gpi",
        "imZ1JbjN75OD",
        "7L0qtjaP75OD",
        "dmrL6c1w75OI"
      ],
      "toc_visible": true,
      "include_colab_link": true
    },
    "kernelspec": {
      "display_name": "Python 3",
      "language": "python",
      "name": "python3"
    },
    "language_info": {
      "codemirror_mode": {
        "name": "ipython",
        "version": 3
      },
      "file_extension": ".py",
      "mimetype": "text/x-python",
      "name": "python",
      "nbconvert_exporter": "python",
      "pygments_lexer": "ipython3",
      "version": "3.8.3"
    }
  },
  "cells": [
    {
      "cell_type": "markdown",
      "metadata": {
        "id": "view-in-github",
        "colab_type": "text"
      },
      "source": [
        "<a href=\"https://colab.research.google.com/github/Orlondo/AzureMapsCodeSamples/blob/master/QxQ_PythonIntensive_HW1_StudentCopy.ipynb\" target=\"_parent\"><img src=\"https://colab.research.google.com/assets/colab-badge.svg\" alt=\"Open In Colab\"/></a>"
      ]
    },
    {
      "cell_type": "markdown",
      "metadata": {
        "id": "sWpargCmCiFs"
      },
      "source": [
        "**Python Intensive: Homework 1**\n",
        "\n",
        "You will submit answers to these questions on Canvas. This file is to practice."
      ]
    },
    {
      "cell_type": "markdown",
      "metadata": {
        "id": "IraFC_B9TFvF"
      },
      "source": [
        "## Intro to Computer Science, How Programs Flow, and How Programmers Think\n",
        "---\n",
        "\n"
      ]
    },
    {
      "cell_type": "markdown",
      "metadata": {
        "id": "IOaZv_Avdo99"
      },
      "source": [
        "### **Concepts**\n",
        "\n",
        "1. Why Computer Science?\n",
        "2. IDEs/Workspace\n",
        "3. Program Flow\n",
        "4. Computational Thinking\n",
        "\n",
        "\n",
        "### **Some Keywords before we move on**\n",
        "**Computer Science**: the study of computers and how we can use them to solve human problems\n",
        "\n",
        "**Algorithm**: a list of steps to solve a problem\n",
        "\n",
        "**Computer Program**: a list of instructions that is written in code\n",
        "\n",
        "**Pseudocode**: normal writing used to represent what a program should look like"
      ]
    },
    {
      "cell_type": "markdown",
      "metadata": {
        "id": "zZNHZvvrdo9-"
      },
      "source": [
        "### Exercise #1\n",
        "---\n",
        "**Problem**: Write a short algorithm for how you brush your teeth. (We're not writing code, just list at least 3 steps that you would follow.)"
      ]
    },
    {
      "cell_type": "markdown",
      "metadata": {
        "id": "3DDTEWaV5jhs"
      },
      "source": [
        ""
      ]
    },
    {
      "cell_type": "markdown",
      "metadata": {
        "id": "mX5kOTC_5nIo"
      },
      "source": [
        ""
      ]
    },
    {
      "cell_type": "code",
      "metadata": {
        "id": "au8ajCrQMap6"
      },
      "source": [
        "Type answer here:\n",
        "\n",
        "# 1. Put toothpaste on toothbrush.\n",
        "# 2. Insert toothbrush in mouth.\n",
        "# 3. Brush teeth\n"
      ],
      "execution_count": null,
      "outputs": []
    },
    {
      "cell_type": "markdown",
      "metadata": {
        "id": "BkvZ4_9Ldo-E"
      },
      "source": [
        "### Exercise #2\n",
        "---\n",
        "**Problem**: Write a pseudocode for the solution to the problem: How many odd numbers exist between 1 to any number: x. "
      ]
    },
    {
      "cell_type": "code",
      "metadata": {
        "id": "VaV7CLgmMap7"
      },
      "source": [
        "Type answer here: \n",
        "# odd_numbers = 0\n",
        "# numbers = [1, 2, 3, 4, 5, 6, 7, 8, 9, 10]\n",
        "\n",
        "# Iterate through \"numbers\" list Incrementing \"odd_numbers\" by 1 everytime there is an odd number.\n"
      ],
      "execution_count": null,
      "outputs": []
    },
    {
      "cell_type": "markdown",
      "metadata": {
        "id": "5a5woYXBhlzz"
      },
      "source": [
        "## Deep Dive into Computational Thinking\n",
        "---\n",
        "\n"
      ]
    },
    {
      "cell_type": "markdown",
      "metadata": {
        "id": "clRBgwDKhlz1"
      },
      "source": [
        "### **Concepts**\n",
        "\n",
        "The four problem-solving methods of computational thinking:\n",
        "1. Decomposition\n",
        "2. Pattern Matching\n",
        "3. Abstraction\n",
        "4. Algorithm"
      ]
    },
    {
      "cell_type": "markdown",
      "metadata": {
        "id": "yU46Qoxdhlz3"
      },
      "source": [
        "### Exercise #1\n",
        "---\n",
        "**Problem**: Write a \"complete\" an algorithm with at least 7 steps, in pseudocode, describing painting a picture using at least 2 paint colors. (Hint: Make sure you open and close the paint cans!)"
      ]
    },
    {
      "cell_type": "markdown",
      "metadata": {
        "id": "rMLLyAUmhlz3"
      },
      "source": [
        "##### **My Answer (type in cell below)**"
      ]
    },
    {
      "cell_type": "markdown",
      "metadata": {
        "id": "SaqClxcs_BJ-"
      },
      "source": [
        "1. Open red paint can\n",
        "2. Apply red paint to wall\n",
        "3. Close red can\n",
        "4. Open blue paint can\n",
        "5. Apply blue paint to wall\n",
        "6. Close blue can\n",
        "7. Check that both colors have been applied to wall"
      ]
    },
    {
      "cell_type": "code",
      "metadata": {
        "id": "QZTSzUouhlz3"
      },
      "source": [
        ""
      ],
      "execution_count": null,
      "outputs": []
    },
    {
      "cell_type": "markdown",
      "metadata": {
        "id": "fPoh-6M2hlz6"
      },
      "source": [
        "### Exercise #2\n",
        "---\n",
        "**Problem**: Write the same algorithm from Exercise 1 the \"Programmer's Way.\""
      ]
    },
    {
      "cell_type": "markdown",
      "metadata": {
        "id": "_eqvu-JAhlz7"
      },
      "source": [
        "##### **My Answer (type in cell below)**"
      ]
    },
    {
      "cell_type": "code",
      "metadata": {
        "id": "KTRhRHxyJQtb",
        "outputId": "d9f1df7b-fec6-48b4-9459-1a8773dcc57b",
        "colab": {
          "base_uri": "https://localhost:8080/"
        }
      },
      "source": [
        "isBluePaintCanOpen: False\n",
        "bluePaintColor = \"blue\"\n",
        "\n",
        "isRedPaintCanOpen: False\n",
        "redPaintColor = \"red\"\n",
        "\n",
        "wall = {\n",
        "    \"color\": []\n",
        "}\n",
        "\n",
        "# 1. Open blue paint can\n",
        "isBluePaintCanOpen = True\n",
        "\n",
        "# 2. Apply blue paint to wall\n",
        "wall[\"color\"].append(bluePaintColor)\n",
        "\n",
        "# 3. Close blue paint can\n",
        "isBluePaintCanOpen = False\n",
        "\n",
        "# 4. Open red paint can\n",
        "isRedPaintCanOpen = True\n",
        "\n",
        "# 5. Apply red paint to wall\n",
        "wall[\"color\"].append(redPaintColor)\n",
        "\n",
        "# 6. Close red paint can\n",
        "isRedPaintCanOpen = False\n",
        "\n",
        "# 7. Check that wall is paint with both colors\n",
        "if \"blue\" and \"red\" in wall[\"color\"]:\n",
        "  print(\"Wall is painted properly\")\n",
        "else:\n",
        "  print(\"Wall is not painted properly\")\n",
        "\n"
      ],
      "execution_count": 55,
      "outputs": [
        {
          "output_type": "stream",
          "text": [
            "Wall is painted properly\n"
          ],
          "name": "stdout"
        }
      ]
    },
    {
      "cell_type": "markdown",
      "metadata": {
        "id": "HOzxNDKPncok"
      },
      "source": [
        "## Print Statements\n",
        "---\n",
        "\n"
      ]
    },
    {
      "cell_type": "markdown",
      "metadata": {
        "id": "8b0ZTRPBncor"
      },
      "source": [
        "### **Concepts**\n",
        "\n",
        "1. print() Function\n",
        "2. Printing Numbers and Strings Together\n",
        "\n",
        "**print()**\n",
        "*   Strings = print(\"WORDS\")\n",
        "*   Numbers = print(NUM)"
      ]
    },
    {
      "cell_type": "markdown",
      "metadata": {
        "id": "biPGQtV-ncos"
      },
      "source": [
        "### Exercise #1\n",
        "---\n",
        "**Problem**: Print 3 sentences about your favorite foods."
      ]
    },
    {
      "cell_type": "markdown",
      "metadata": {
        "id": "K_y-9gJjncou"
      },
      "source": [
        "##### **My Answer**"
      ]
    },
    {
      "cell_type": "code",
      "metadata": {
        "id": "ULhR-Uinncov",
        "outputId": "e9139740-8f70-406e-bf7a-fff5d3987d35",
        "colab": {
          "base_uri": "https://localhost:8080/"
        }
      },
      "source": [
        "print(\"I like pizza, a lot!\")\n",
        "print(\"I like sushi.\")\n",
        "print(\"I REALLY like steak!!!\")"
      ],
      "execution_count": 57,
      "outputs": [
        {
          "output_type": "stream",
          "text": [
            "I like pizza, a lot!\n",
            "I like sushi.\n",
            "I REALLY like steak!!!\n"
          ],
          "name": "stdout"
        }
      ]
    },
    {
      "cell_type": "markdown",
      "metadata": {
        "id": "FNEYt30zncoz"
      },
      "source": [
        "### Exercise #2\n",
        "---\n",
        "**Problem**: Print a sentence that states how many siblings you have."
      ]
    },
    {
      "cell_type": "markdown",
      "metadata": {
        "id": "efWr9zUincoz"
      },
      "source": [
        "##### **My Answer**"
      ]
    },
    {
      "cell_type": "code",
      "metadata": {
        "id": "yRyWnClZnco0",
        "outputId": "683dc6f9-0029-4b9b-e0fe-eadf5b349527",
        "colab": {
          "base_uri": "https://localhost:8080/"
        }
      },
      "source": [
        "siblings = \"3\"\n",
        "\n",
        "print(\"I have \" + siblings + \" siblings.\")"
      ],
      "execution_count": 59,
      "outputs": [
        {
          "output_type": "stream",
          "text": [
            "I have 3 siblings.\n"
          ],
          "name": "stdout"
        }
      ]
    },
    {
      "cell_type": "markdown",
      "metadata": {
        "id": "hT2WFzDKnco2"
      },
      "source": [
        "### Exercise #3\n",
        "---\n",
        "**Problem**: Debug the following line(s) of code:"
      ]
    },
    {
      "cell_type": "code",
      "metadata": {
        "id": "f1Wmc3YHoz_s"
      },
      "source": [
        "print(\"I was about \" + 7 + \" years old when I learned to ride a bike.\")"
      ],
      "execution_count": null,
      "outputs": []
    },
    {
      "cell_type": "markdown",
      "metadata": {
        "id": "0kw2zuu-nco2"
      },
      "source": [
        "##### **My Answer**"
      ]
    },
    {
      "cell_type": "code",
      "metadata": {
        "id": "JrUhw80inco2",
        "outputId": "4c42d682-9dc1-4b36-e680-e68ec1e3e4b1",
        "colab": {
          "base_uri": "https://localhost:8080/"
        }
      },
      "source": [
        "print(\"I was about \" + \"7\" + \" years old when I learned to ride a bike.\")"
      ],
      "execution_count": 61,
      "outputs": [
        {
          "output_type": "stream",
          "text": [
            "I was about 7 years old when I learned to ride a bike.\n"
          ],
          "name": "stdout"
        }
      ]
    },
    {
      "cell_type": "markdown",
      "metadata": {
        "id": "iDJ-I_rMDbE-"
      },
      "source": [
        "## Variables\n",
        "---"
      ]
    },
    {
      "cell_type": "markdown",
      "metadata": {
        "id": "JW9UWAQ7BP3f"
      },
      "source": [
        "### **Concepts**\n",
        "*This lesson introduces students to variables and data types. Building off of their last lesson, students will learn how to print variables.*\n",
        "\n",
        "1. Variables\n",
        "2. Data Types\n",
        "3. Printing Variables\n",
        "\n",
        "**variable**: containers for storing data values\n",
        "\n",
        "**Variable**\n",
        "*   Python Immutability\n",
        "*   Value/none\n",
        "\n",
        "**Number**\n",
        "* Int\n",
        "* Float\n",
        "\n",
        "**Python String**\n",
        "* String\n",
        "* Char\n",
        "\n",
        "**Boolean**\n",
        "* True/False\n",
        "\n",
        "**Lists**"
      ]
    },
    {
      "cell_type": "markdown",
      "metadata": {
        "id": "yAqswP3QBczI"
      },
      "source": [
        "### Exercise #1\n",
        "---\n",
        "**Problem**: Name a variable `lucky` and assign it to your lucky number."
      ]
    },
    {
      "cell_type": "markdown",
      "metadata": {
        "id": "Ls2-l-wLCuL3"
      },
      "source": [
        "##### **My Answer**"
      ]
    },
    {
      "cell_type": "code",
      "metadata": {
        "id": "RLYC7tHiCvxt"
      },
      "source": [
        "lucky = 7"
      ],
      "execution_count": 63,
      "outputs": []
    },
    {
      "cell_type": "markdown",
      "metadata": {
        "id": "1n29Z21KEumw"
      },
      "source": [
        "### Exercise #2\n",
        "---\n",
        "**Problem**: Convert the float, 89.668 to an integer."
      ]
    },
    {
      "cell_type": "markdown",
      "metadata": {
        "id": "JEu7ZtvtEyd1"
      },
      "source": [
        "##### **My Answer**"
      ]
    },
    {
      "cell_type": "code",
      "metadata": {
        "id": "_1dY6nLtE8Yk",
        "outputId": "53085765-0b30-4338-9198-db4c31fa8204",
        "colab": {
          "base_uri": "https://localhost:8080/"
        }
      },
      "source": [
        "int(89.668)"
      ],
      "execution_count": 64,
      "outputs": [
        {
          "output_type": "execute_result",
          "data": {
            "text/plain": [
              "89"
            ]
          },
          "metadata": {
            "tags": []
          },
          "execution_count": 64
        }
      ]
    },
    {
      "cell_type": "markdown",
      "metadata": {
        "id": "-ExPBv3kE5rM"
      },
      "source": [
        "### Exercise #3\n",
        "---\n",
        "**Problem**: Create a variable `height` and assign it to value 5.3. Create a variable `days` and assign it to value 10. Print a sentence that states that your plant has grown 5.3 inches in 10 days."
      ]
    },
    {
      "cell_type": "markdown",
      "metadata": {
        "id": "lXWGImr8E1Bd"
      },
      "source": [
        "##### **My Answer**"
      ]
    },
    {
      "cell_type": "code",
      "metadata": {
        "id": "W5Xh8hXgE9Gm",
        "outputId": "df2d2e27-6f5f-49b2-9b65-26ffcbf014b8",
        "colab": {
          "base_uri": "https://localhost:8080/"
        }
      },
      "source": [
        "height = 5.3\n",
        "days = 10\n",
        "\n",
        "print(\"My plant has grown \" + str(height) + \" in \" + str(days) + \" days.\") "
      ],
      "execution_count": 66,
      "outputs": [
        {
          "output_type": "stream",
          "text": [
            "My plant has grown 5.3 in 10 days.\n"
          ],
          "name": "stdout"
        }
      ]
    },
    {
      "cell_type": "markdown",
      "metadata": {
        "id": "vaBnbO5eqGgE"
      },
      "source": [
        "### Exercise #4\n",
        "---\n",
        "**Problem**: Create a variable `cities` and assign it your list of favorite cities"
      ]
    },
    {
      "cell_type": "markdown",
      "metadata": {
        "id": "aZ50vhS6qV1Q"
      },
      "source": [
        "**My Answer**"
      ]
    },
    {
      "cell_type": "code",
      "metadata": {
        "id": "F62cN8xSqDoa"
      },
      "source": [
        "cities = [\"Detroit\", \"Southfield\", \"Chicago\"]"
      ],
      "execution_count": 67,
      "outputs": []
    },
    {
      "cell_type": "markdown",
      "metadata": {
        "id": "HiPcFGmqqG_c"
      },
      "source": [
        "## Arithmetic Operators\n",
        "---\n",
        "\n"
      ]
    },
    {
      "cell_type": "markdown",
      "metadata": {
        "id": "pb2tbAw7qG_e"
      },
      "source": [
        "### **Concepts**\n",
        "\n",
        "1. Basic operations\n",
        "    - Addtion\n",
        "    - Subtraction\n",
        "    - Multiplication\n",
        "2. Division\n",
        "3. Modulo\n",
        "4. Different syntax examples \n"
      ]
    },
    {
      "cell_type": "markdown",
      "metadata": {
        "id": "Ca8ZV_uoqG_f"
      },
      "source": [
        "### Exercise #1\n",
        "---\n",
        "**Problem**: Jake has 5 bags of coins. Each bag has 18 coins in it. How many coin total does Jake have? Create variables `bags` and `coins` and print their product: `total`."
      ]
    },
    {
      "cell_type": "markdown",
      "metadata": {
        "id": "sr135HEGqG_f"
      },
      "source": [
        "##### **My Answer**"
      ]
    },
    {
      "cell_type": "code",
      "metadata": {
        "id": "5zNjDHDjqG_g"
      },
      "source": [
        ""
      ],
      "execution_count": null,
      "outputs": []
    },
    {
      "cell_type": "markdown",
      "metadata": {
        "id": "Jm3_Az9eqG_j"
      },
      "source": [
        "### Exercise #2\n",
        "---\n",
        "**Problem**: Divide 13 by 7. Make sure the answer has decimals."
      ]
    },
    {
      "cell_type": "markdown",
      "metadata": {
        "id": "dmudaQqFqG_j"
      },
      "source": [
        "##### **My Answer**"
      ]
    },
    {
      "cell_type": "code",
      "metadata": {
        "id": "dAUKam9TqG_k"
      },
      "source": [
        ""
      ],
      "execution_count": null,
      "outputs": []
    },
    {
      "cell_type": "markdown",
      "metadata": {
        "id": "diJn3EpOqG_m"
      },
      "source": [
        "### Exercise #3\n",
        "---\n",
        "**Problem**: Pierce has 11 cookies and 4 friends. If Pierce wants to give each of his friends 2 cookies, and have 2 himself, how many cookies would he have left over? Use the multiplication and modelo functions to solve this problem."
      ]
    },
    {
      "cell_type": "markdown",
      "metadata": {
        "id": "DvBF3009qG_m"
      },
      "source": [
        "##### **My Answer**"
      ]
    },
    {
      "cell_type": "code",
      "metadata": {
        "id": "34w8ZSvvqG_n"
      },
      "source": [
        ""
      ],
      "execution_count": null,
      "outputs": []
    },
    {
      "cell_type": "markdown",
      "metadata": {
        "id": "DTLsxATSK_e-"
      },
      "source": [
        "## Boolean Logic\n",
        "---\n"
      ]
    },
    {
      "cell_type": "markdown",
      "metadata": {
        "id": "k-roM1i4udwL"
      },
      "source": [
        "### **Concepts**\n",
        "\n",
        "1. Boolean Expression\n",
        "  - True/False\n",
        "2. Logical Operators\n",
        "  - and\n",
        "  - or\n",
        "  - not\n",
        "3. Comparison Operators\n",
        "  - equal ==\n",
        "  - not equal !=\n",
        "  - less than (or equal to) < and <=\n",
        "  - greater than (or equal to) > and >="
      ]
    },
    {
      "cell_type": "markdown",
      "metadata": {
        "id": "29pJzCjVudwM"
      },
      "source": [
        "### Exercise #1\n",
        "---\n",
        "**Problem**: Are the following problems True or False?"
      ]
    },
    {
      "cell_type": "code",
      "metadata": {
        "id": "-wn1ZbjYudwN",
        "outputId": "7b8d1754-ccf9-477b-b120-2c3496194bbc",
        "colab": {
          "base_uri": "https://localhost:8080/"
        }
      },
      "source": [
        "A = True\n",
        "B = False\n",
        "C = False\n",
        "\n",
        "A or B\n",
        "not C\n",
        "A and C\n",
        "(not B and not C) or (A and B)"
      ],
      "execution_count": 68,
      "outputs": [
        {
          "output_type": "execute_result",
          "data": {
            "text/plain": [
              "True"
            ]
          },
          "metadata": {
            "tags": []
          },
          "execution_count": 68
        }
      ]
    },
    {
      "cell_type": "markdown",
      "metadata": {
        "id": "SoIwyqRfudwN"
      },
      "source": [
        "##### **My Answer**"
      ]
    },
    {
      "cell_type": "markdown",
      "metadata": {
        "id": "lJsMgz7Cv3ME"
      },
      "source": [
        "True\n",
        "True\n",
        "False\n",
        "True"
      ]
    },
    {
      "cell_type": "markdown",
      "metadata": {
        "id": "lkU5JJN5udwR"
      },
      "source": [
        "### Exercise #2\n",
        "---\n",
        "**Problem**: What is the following code output?"
      ]
    },
    {
      "cell_type": "code",
      "metadata": {
        "id": "UcPQ7WJewZuc"
      },
      "source": [
        "pickles = 7\n",
        "oranges = 15\n",
        "strawberries = 2\n",
        "\n",
        "print(pickles > oranges)\n",
        "print((pickles * strawberries) > oranges)\n",
        "print(oranges != strawberries)"
      ],
      "execution_count": null,
      "outputs": []
    },
    {
      "cell_type": "markdown",
      "metadata": {
        "id": "-v7XfKs3udwS"
      },
      "source": [
        "##### **My Answer**"
      ]
    },
    {
      "cell_type": "code",
      "metadata": {
        "id": "ReaHTljzudwS"
      },
      "source": [
        "False\n",
        "False \n",
        "True"
      ],
      "execution_count": null,
      "outputs": []
    },
    {
      "cell_type": "markdown",
      "metadata": {
        "id": "YLFUdZU8udwW"
      },
      "source": [
        "### Exercise #3\n",
        "---\n",
        "Using the variables below and comparison operators, write a program that will produce a `False` output. \n",
        "\n",
        "```\n",
        "a = 10\n",
        "b = 12\n",
        "c = 2 \n",
        "```"
      ]
    },
    {
      "cell_type": "markdown",
      "metadata": {
        "id": "TTuJ68aIudwW"
      },
      "source": [
        "##### **My Answer**"
      ]
    },
    {
      "cell_type": "code",
      "metadata": {
        "id": "yzobiwmuMX4A",
        "outputId": "e352b766-b3e7-4946-b1ae-0e97d3753773",
        "colab": {
          "base_uri": "https://localhost:8080/"
        }
      },
      "source": [
        "a = 10\n",
        "b = 12\n",
        "c = 2 \n",
        "\n",
        "a + c != b"
      ],
      "execution_count": 73,
      "outputs": [
        {
          "output_type": "execute_result",
          "data": {
            "text/plain": [
              "False"
            ]
          },
          "metadata": {
            "tags": []
          },
          "execution_count": 73
        }
      ]
    },
    {
      "cell_type": "markdown",
      "metadata": {
        "id": "B00YUVInLwaW"
      },
      "source": [
        "# **ADDITIONAL PRACTICE**\n",
        "---\n",
        "**Note:** If you understand the above material, you do not need to complete this."
      ]
    },
    {
      "cell_type": "markdown",
      "metadata": {
        "id": "F2RGBDBoMkZM"
      },
      "source": [
        "## Print Statements\n",
        "---\n"
      ]
    },
    {
      "cell_type": "markdown",
      "metadata": {
        "id": "Bry7oqk7H3R8"
      },
      "source": [
        "1. Print your name.\n",
        "\n",
        "2. Print the number: 6. \n",
        "\n",
        "3. Print the year you were born. \n",
        "\n",
        "4. Print the name of your favorite city. \n",
        "\n",
        "5. Print the statement: 'The year is 2020'\n",
        "\n",
        "6. Print a sentence that states your age.\n",
        "\n",
        "7. Debug the following line of code:\n",
        "\n",
        "```\n",
        "print(My favorite number is + 6.)\n",
        "```\n",
        "\n",
        "8. Debug the following line of code:\n",
        "\n",
        "```\n",
        "print(\"I got a \" + 98 + \" on my Physics test.\") \n",
        "```\n",
        "\n",
        "9. Print the statement: I was born on January 18, 2003."
      ]
    },
    {
      "cell_type": "markdown",
      "metadata": {
        "id": "2It1SZeUIUZG"
      },
      "source": [
        "#### **My Answers**"
      ]
    },
    {
      "cell_type": "markdown",
      "metadata": {
        "id": "TJgfVySQJayF"
      },
      "source": [
        "1. "
      ]
    },
    {
      "cell_type": "code",
      "metadata": {
        "id": "-02EM4mzJbd8"
      },
      "source": [
        "print(\"Orlondo\")"
      ],
      "execution_count": null,
      "outputs": []
    },
    {
      "cell_type": "markdown",
      "metadata": {
        "id": "m-ynmTjXJdLf"
      },
      "source": [
        "2. "
      ]
    },
    {
      "cell_type": "code",
      "metadata": {
        "id": "SnNAx7ruJdtu"
      },
      "source": [
        "print(6)"
      ],
      "execution_count": null,
      "outputs": []
    },
    {
      "cell_type": "markdown",
      "metadata": {
        "id": "MidpbaoULqC8"
      },
      "source": [
        "3. "
      ]
    },
    {
      "cell_type": "code",
      "metadata": {
        "id": "UNm33AMSLquI"
      },
      "source": [
        "print(1972)"
      ],
      "execution_count": null,
      "outputs": []
    },
    {
      "cell_type": "markdown",
      "metadata": {
        "id": "6TcnIYHjLrU3"
      },
      "source": [
        "4. "
      ]
    },
    {
      "cell_type": "code",
      "metadata": {
        "id": "j5t_0pSjLrw4"
      },
      "source": [
        "print(\"Detroit\")"
      ],
      "execution_count": null,
      "outputs": []
    },
    {
      "cell_type": "markdown",
      "metadata": {
        "id": "CcYLfmLdJt7L"
      },
      "source": [
        "5. "
      ]
    },
    {
      "cell_type": "code",
      "metadata": {
        "id": "auWC-VzDJulP"
      },
      "source": [
        "print(\"The year is 2020\")"
      ],
      "execution_count": null,
      "outputs": []
    },
    {
      "cell_type": "markdown",
      "metadata": {
        "id": "jEdcjA_DLM9t"
      },
      "source": [
        "6. "
      ]
    },
    {
      "cell_type": "code",
      "metadata": {
        "id": "UIwzgDO6LNb6",
        "outputId": "9e68c440-6951-4257-c5f0-f29c01fd6adb",
        "colab": {
          "base_uri": "https://localhost:8080/"
        }
      },
      "source": [
        "print(\"I am 48 year old\")"
      ],
      "execution_count": 77,
      "outputs": [
        {
          "output_type": "stream",
          "text": [
            "I am 48 year old\n"
          ],
          "name": "stdout"
        }
      ]
    },
    {
      "cell_type": "markdown",
      "metadata": {
        "id": "AfwPe7yxH9Li"
      },
      "source": [
        "7. "
      ]
    },
    {
      "cell_type": "code",
      "metadata": {
        "id": "50wFCPmXIIo_",
        "outputId": "9e9555a7-cc10-423a-b210-e04eb4260824",
        "colab": {
          "base_uri": "https://localhost:8080/"
        }
      },
      "source": [
        "print(\"My favorite number is \" + str(6) + \".\")"
      ],
      "execution_count": 76,
      "outputs": [
        {
          "output_type": "stream",
          "text": [
            "My favorite number is 6.\n"
          ],
          "name": "stdout"
        }
      ]
    },
    {
      "cell_type": "markdown",
      "metadata": {
        "id": "iYKf8-CVMCCB"
      },
      "source": [
        "8."
      ]
    },
    {
      "cell_type": "code",
      "metadata": {
        "id": "x74Ss0GQMCzX"
      },
      "source": [
        "print(\"I got a \" + 98 + \" on my Physics test.\") "
      ],
      "execution_count": null,
      "outputs": []
    },
    {
      "cell_type": "markdown",
      "metadata": {
        "id": "-nLMn7lbNugZ"
      },
      "source": [
        "9."
      ]
    },
    {
      "cell_type": "code",
      "metadata": {
        "id": "OGzD8n5CNvBf",
        "outputId": "37b4205c-17b6-421f-d665-207570c33432",
        "colab": {
          "base_uri": "https://localhost:8080/"
        }
      },
      "source": [
        "print(\"I got a \" + str(98) + \" on my Physics test.\") "
      ],
      "execution_count": 78,
      "outputs": [
        {
          "output_type": "stream",
          "text": [
            "I got a 98 on my Physics test.\n"
          ],
          "name": "stdout"
        }
      ]
    },
    {
      "cell_type": "markdown",
      "metadata": {
        "id": "85jKb2JJM_eF"
      },
      "source": [
        "## Variables\n",
        "---\n"
      ]
    },
    {
      "cell_type": "markdown",
      "metadata": {
        "id": "PnL3-SSOS6LZ"
      },
      "source": [
        "1. Create a variable called `siblings` and assign it the number of siblings you have.\n",
        "\n",
        "2. Create a variable named `subject` and assign your favorite class subject to it. \n",
        "\n",
        "3. Reassign your newly created variable, `subject`, with another class subject. Print to make sure the new value is assigned.\n",
        "\n",
        "4. Using the code below, what will print when you print(bananas)? Why?\n",
        "\n",
        "```\n",
        "bananas = 4\n",
        "apples = 3\n",
        "oranges = banana\n",
        "bananas = 8\n",
        "print(bananas)\n",
        "```\n",
        "\n",
        "5. Determine whether each of the following numbers is an int or float.\n",
        "\n",
        "```\n",
        "3\n",
        "-2.1\n",
        "80.22123\n",
        "54444\n",
        "30\n",
        "```\n",
        "\n",
        "6. Convert 100 to a float.\n",
        "\n",
        "7. Convert -4.8 to an int.\n",
        "\n",
        "8. What's wrong with the following declaration? \n",
        "```\n",
        "1var = 323.0\n",
        "```\n",
        "\n",
        "9. What's wrong with the following declaration? \n",
        "```\n",
        "month@month = \"July\" \n",
        "```\n",
        "\n",
        "10. What's wrong with the following declaration? \n",
        "```\n",
        "month year = \"july2020\"\n",
        "```"
      ]
    },
    {
      "cell_type": "markdown",
      "metadata": {
        "id": "k6puybHFQDTZ"
      },
      "source": [
        "11. Assign the value \"Apple\" to variables `x`, `y`, and `z`. \n",
        "\n",
        "12. Starting with the code below, assign a variable, `z`, to equal `x`.\n",
        "```\n",
        "x = 4\n",
        "y = 5\n",
        "```\n",
        "\n",
        "13. Starting with the code below, reassign the variable, `candybar`, to \"Milkyway.\" Check to make sure it worked.\n",
        "```\n",
        "candybar = \"Snickers\" \n",
        "```\n",
        "\n",
        "14. Create a variable called `name` and assign it your name. Then print the statement \"My name is [YOUR NAME]\"\n",
        "\n",
        "15. Create two variables: one for your favorite subject and another for your favorite season. Then print a statement that states: \"My favorite subject is [] and my favorite season is [].\"\n",
        "\n",
        "16. Using only variable(s), print the statement \"I love coding.\"\n"
      ]
    },
    {
      "cell_type": "markdown",
      "metadata": {
        "id": "b6p_2sTdL-qY"
      },
      "source": [
        "##### **My Answers** "
      ]
    },
    {
      "cell_type": "markdown",
      "metadata": {
        "id": "RB_3Kxkdushi"
      },
      "source": [
        ""
      ]
    },
    {
      "cell_type": "markdown",
      "metadata": {
        "id": "z6B_pgZPMBp-"
      },
      "source": [
        "1. siblings = 4"
      ]
    },
    {
      "cell_type": "markdown",
      "metadata": {
        "id": "QaDwYe2oNTD9"
      },
      "source": [
        "2. subject = \"Math\""
      ]
    },
    {
      "cell_type": "markdown",
      "metadata": {
        "id": "yWKDLz0SNfYi"
      },
      "source": [
        "3. subject = \"Trigonomtry\""
      ]
    },
    {
      "cell_type": "markdown",
      "metadata": {
        "id": "R6HQkMhON4wH"
      },
      "source": [
        "4. 8"
      ]
    },
    {
      "cell_type": "markdown",
      "metadata": {
        "id": "PkEeIdFsOYhg"
      },
      "source": [
        "5. Int, Float, Float, Int, Int"
      ]
    },
    {
      "cell_type": "markdown",
      "metadata": {
        "id": "x471fjHpMtiY"
      },
      "source": [
        "6. float(100)"
      ]
    },
    {
      "cell_type": "markdown",
      "metadata": {
        "id": "2MsGj1CHO_SL"
      },
      "source": [
        "7. int(-4.8)"
      ]
    },
    {
      "cell_type": "markdown",
      "metadata": {
        "id": "6urbX1-JPTBU"
      },
      "source": [
        "8. Varables can't begin with numbes"
      ]
    },
    {
      "cell_type": "code",
      "metadata": {
        "id": "J4k75-ZrMap9"
      },
      "source": [
        "9.  # Variables can't have special characters"
      ],
      "execution_count": null,
      "outputs": []
    },
    {
      "cell_type": "markdown",
      "metadata": {
        "id": "5DaEyclgMap9"
      },
      "source": [
        "10. Variables can't have spaces"
      ]
    },
    {
      "cell_type": "markdown",
      "metadata": {
        "id": "30WRbR_4Qdoo"
      },
      "source": [
        "11. x = y = z = \"Apple\""
      ]
    },
    {
      "cell_type": "markdown",
      "metadata": {
        "id": "oOguIEqkQ1P4"
      },
      "source": [
        "12. z = x"
      ]
    },
    {
      "cell_type": "markdown",
      "metadata": {
        "id": "tz6j0B12RGj0"
      },
      "source": [
        "13. candybar = \"Milkyway\""
      ]
    },
    {
      "cell_type": "code",
      "metadata": {
        "id": "6pYMmM60wzKz",
        "outputId": "59ff3617-35a7-433d-80d1-1f5abd1f84fa",
        "colab": {
          "base_uri": "https://localhost:8080/"
        }
      },
      "source": [
        "name = \"Orlondo\"\n",
        "\n",
        "print(\"My name is \" + name)"
      ],
      "execution_count": 79,
      "outputs": [
        {
          "output_type": "stream",
          "text": [
            "My name is Orlondo\n"
          ],
          "name": "stdout"
        }
      ]
    },
    {
      "cell_type": "code",
      "metadata": {
        "id": "N2ATxky1xFI8",
        "outputId": "6d1129d6-89f1-4c4c-a2ab-59664f34e9a3",
        "colab": {
          "base_uri": "https://localhost:8080/"
        }
      },
      "source": [
        "subject = \"math\"\n",
        "season = \"spring\"\n",
        "\n",
        "print(\"My favorite subject is \" + subject + \" and my favorite season is \" + season + \".\")"
      ],
      "execution_count": 81,
      "outputs": [
        {
          "output_type": "stream",
          "text": [
            "My favorite subject is math and my favorite season is spring.\n"
          ],
          "name": "stdout"
        }
      ]
    },
    {
      "cell_type": "code",
      "metadata": {
        "id": "l6bGgJL4x8-T",
        "outputId": "1591db76-e669-479c-eb48-883c6f2807bb",
        "colab": {
          "base_uri": "https://localhost:8080/"
        }
      },
      "source": [
        "codingStatment = \"I love coding.\"\n",
        "\n",
        "print(codingStatment)"
      ],
      "execution_count": 82,
      "outputs": [
        {
          "output_type": "stream",
          "text": [
            "I love coding.\n"
          ],
          "name": "stdout"
        }
      ]
    },
    {
      "cell_type": "markdown",
      "metadata": {
        "id": "bEkV50oQNhtR"
      },
      "source": [
        "## Arithmetic Operators\n",
        "---\n"
      ]
    },
    {
      "cell_type": "markdown",
      "metadata": {
        "id": "TApYaxKL_Yp6"
      },
      "source": [
        "\n",
        "For questions 1-4, use the following set of variables:\n",
        "\n",
        "````\n",
        "broccoli = 5\n",
        "tomatoes = 11\n",
        "lettuce = 13\n",
        "green_beans = 2\n",
        "````\n",
        "\n",
        "1. Add all of the vegetables together. What is the total count? \n",
        "\n",
        "2. Multiply the ``broccoli`` and the ``lettuce``. \n",
        "\n",
        "3. Subtract the ``green_beans`` from ``tomatoes``. \n",
        "\n",
        "4. Add 5 to broccoli. \n",
        "\n",
        "5. Matt has 12 cookies. Maxime has 15. How many cookies do they have together? Use variables ``matt``, ``maxime``, and ``total``. \n",
        "\n",
        "6. You got a 86 on your English test. You forgot to put your name though and lost 5 points. What is your final grade? Use variables ``initial_grade``, ``forgot_name``, and ``final_grade``. \n",
        "\n",
        "7. You have three piles of clothes - dirty, clean, and outgrown. Each pile has 10 pieces. How many pieces of clothing do you have in total? Use multiplication with variables ``piles``, ``pieces``, and ``total``. \n",
        "\n",
        "8. Without creating a new variable, add 10 to ``apples``.\n",
        "\n",
        "````\n",
        "apples = 5\n",
        "````\n",
        "\n",
        "9. Now using the new sum of ``apples``, multiply ``apples`` by 15. Do not create a new variable. \n",
        "\n",
        "10. Divide ``number1`` by 10 without creating a new variable.\n",
        "\n",
        "````\n",
        "number1 = 3000\n",
        "````\n"
      ]
    },
    {
      "cell_type": "markdown",
      "metadata": {
        "id": "oEl3IBjdOZgV"
      },
      "source": [
        "##### **Solution:** "
      ]
    },
    {
      "cell_type": "markdown",
      "metadata": {
        "id": "j1Nvf3ZJwLLc"
      },
      "source": [
        "1. "
      ]
    },
    {
      "cell_type": "markdown",
      "metadata": {
        "id": "IJHmIgYQwQiJ"
      },
      "source": [
        "2. "
      ]
    },
    {
      "cell_type": "markdown",
      "metadata": {
        "id": "gJvx-ysBwuzC"
      },
      "source": [
        "3. "
      ]
    },
    {
      "cell_type": "markdown",
      "metadata": {
        "id": "T33i4MaExPjU"
      },
      "source": [
        "4. "
      ]
    },
    {
      "cell_type": "markdown",
      "metadata": {
        "id": "qfOLNwhDk8Wb"
      },
      "source": [
        "5. "
      ]
    },
    {
      "cell_type": "markdown",
      "metadata": {
        "id": "0B2Iofy5vKOn"
      },
      "source": [
        "6."
      ]
    },
    {
      "cell_type": "markdown",
      "metadata": {
        "id": "_1LgaVErvUgh"
      },
      "source": [
        "7. "
      ]
    },
    {
      "cell_type": "markdown",
      "metadata": {
        "id": "8FmNMRzhmF8P"
      },
      "source": [
        "8. "
      ]
    },
    {
      "cell_type": "markdown",
      "metadata": {
        "id": "qUKlCcX_mg7V"
      },
      "source": [
        "9."
      ]
    },
    {
      "cell_type": "markdown",
      "metadata": {
        "id": "BGHUkL8XytCP"
      },
      "source": [
        "10. "
      ]
    },
    {
      "cell_type": "markdown",
      "metadata": {
        "id": "0vqO6FqjL2zP"
      },
      "source": [
        "## Boolean Logic\n",
        "---\n"
      ]
    },
    {
      "cell_type": "markdown",
      "metadata": {
        "id": "tK4g5G4q1EH2"
      },
      "source": [
        "Evaluate the following statements as True or False.\n",
        "\n",
        "1. `not (True)`\n",
        "2. `True or True`\n",
        "3. `True and False`\n",
        "4. `not (True and False)`\n",
        "5. `True and True`\n",
        "6. `(True and True) or False`\n",
        "7. `(not (True and False) or (True or False)`\n",
        "8. `((False and False) or (False or not (True)))`\n",
        "9. `not ((False or False) and True)`\n",
        "10. `((False and False) or (True and True)) and ((True and False) or not (False))`\n",
        "11. `(not (False) or not (True)) and (False or True)`\n",
        "\n",
        "12.\n",
        "\n",
        "```\n",
        "a = 10\n",
        "b = 20\n",
        "\n",
        "a > b\n",
        "```\n",
        "\n",
        "13. \n",
        "\n",
        "\n",
        "```\n",
        "c = 12\n",
        "d = 20\n",
        "\n",
        "d > c\n",
        "```\n",
        "\n",
        "14.\n",
        "\n",
        "```\n",
        "q = 15\n",
        "x = 20\n",
        "y = 14\n",
        "z = 1\n",
        "\n",
        "(q + x) >= (y - z)\n",
        "```\n",
        "\n"
      ]
    },
    {
      "cell_type": "markdown",
      "metadata": {
        "id": "XO80OifwL-bt"
      },
      "source": [
        "#### **My Answers**"
      ]
    },
    {
      "cell_type": "markdown",
      "metadata": {
        "id": "d5uCPjEacM6H"
      },
      "source": [
        "1. \n",
        "2. \n",
        "3. \n",
        "4. \n",
        "5. \n",
        "6. \n",
        "7. \n",
        "8. \n",
        "9. \n",
        "10. \n",
        "11. \n",
        "12. \n",
        "13. \n",
        "14. "
      ]
    },
    {
      "cell_type": "markdown",
      "metadata": {
        "id": "pqeET9mrNkGM"
      },
      "source": [
        "---\n",
        "© 2020 The Coding School, All rights reserved\n",
        "This curriculum is the intellectual property of The Coding School (TCS), and it is only to be used with TCS students."
      ]
    }
  ]
}